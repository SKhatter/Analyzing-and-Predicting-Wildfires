{
 "cells": [
  {
   "cell_type": "code",
   "execution_count": 1,
   "metadata": {
    "collapsed": false
   },
   "outputs": [],
   "source": [
    "from itertools import product\n",
    "from PIL import Image\n",
    "import gdal\n",
    "import numpy as np\n",
    "import matplotlib.pyplot as plot\n",
    "from gdalconst import*\n",
    "from osgeo import ogr\n",
    "import numpy as np\n",
    "from sklearn import metrics\n",
    "from collections import Counter\n",
    "from sklearn.datasets import make_classification\n",
    "from sklearn.metrics import confusion_matrix\n",
    "import matplotlib.pyplot as plt\n",
    "from sklearn.datasets import make_classification\n",
    "from sklearn.model_selection import train_test_split\n",
    "from itertools import cycle\n",
    "from sklearn import svm, datasets\n",
    "from sklearn.model_selection import train_test_split\n",
    "from sklearn.preprocessing import label_binarize\n",
    "import seaborn as sns\n",
    "import matplotlib as mpl\n",
    "import matplotlib.pyplot as plt\n",
    "import itertools\n",
    "import pandas as pd\n",
    "import random\n",
    "from collections import Counter\n",
    "from sklearn.datasets import make_classification\n",
    "from imblearn.under_sampling import RandomUnderSampler \n",
    "from sklearn.linear_model import LogisticRegression"
   ]
  },
  {
   "cell_type": "code",
   "execution_count": 2,
   "metadata": {
    "collapsed": false
   },
   "outputs": [],
   "source": [
    "#4 creating variables for band files taken from the landscape file of 2012\n",
    "#4 bands include - Elevation, Aspect, Slope, Fuel Model Number\n",
    "\n",
    "\n",
    "#year 2012\n",
    "band1_12 = '/home/skhatter/exp1/us_130lcp13/band1_.tif'\n",
    "band2_12 = '/home/skhatter/exp1/us_130lcp13/band2_.tif'\n",
    "band3_12 = '/home/skhatter/exp1/us_130lcp13/band3_.tif'\n",
    "band4_12 = '/home/skhatter/exp1/us_130lcp13/band4_.tif'\n",
    "\n",
    "#this file has cumulative fire frequencies from 1992 - 2012\n",
    "fireFreq = '/home/skhatter/exp2/summation/fire92_12_.tif'\n",
    "\n",
    "\n",
    "#opening all the band files using gdal\n",
    "dataset1_12 = gdal.Open(band1_12, GA_ReadOnly)\n",
    "dataset2_12 = gdal.Open(band2_12, GA_ReadOnly)\n",
    "dataset3_12 = gdal.Open(band3_12, GA_ReadOnly)\n",
    "dataset4_12 = gdal.Open(band4_12, GA_ReadOnly)\n",
    "dataset_fireFreq = gdal.Open(fireFreq, GA_ReadOnly)"
   ]
  },
  {
   "cell_type": "code",
   "execution_count": 3,
   "metadata": {
    "collapsed": false
   },
   "outputs": [],
   "source": [
    "#getting individual bands for 2012\n",
    "band_fireFreq = dataset_fireFreq.GetRasterBand(1)\n",
    "band1_12 = dataset1_12.GetRasterBand(1)\n",
    "band2_12 = dataset2_12.GetRasterBand(1)\n",
    "band3_12 = dataset3_12.GetRasterBand(1)\n",
    "band4_12 = dataset4_12.GetRasterBand(1)\n",
    "\n",
    "#get data in the numpy arrays for 2012\n",
    "data_fireFreq =  np.array(band_fireFreq.ReadAsArray(0,0,band_fireFreq.XSize, band_fireFreq.YSize)) \n",
    "data1_12 = np.array(band1_12.ReadAsArray())\n",
    "data2_12 = np.array(band2_12.ReadAsArray(0,0,band2_12.XSize, band2_12.YSize))\n",
    "data3_12 = np.array(band3_12.ReadAsArray(0,0,band3_12.XSize, band3_12.YSize))\n",
    "data4_12 = np.array(band4_12.ReadAsArray(0,0,band4_12.XSize, band4_12.YSize))"
   ]
  },
  {
   "cell_type": "code",
   "execution_count": 5,
   "metadata": {
    "collapsed": false
   },
   "outputs": [],
   "source": [
    "#Reshaping the arrays\n",
    "\n",
    "data1_12 = data1_12.flatten()\n",
    "data2_12 = np.reshape(data2_12, data2_12.size, order='F')\n",
    "data3_12 = np.reshape(data3_12, data3_12.size, order='F')\n",
    "data4_12 = np.reshape(data4_12, data4_12.size, order='F')\n",
    "data_fireFreq = np.reshape(data_fireFreq, data_fireFreq.size, order='F')"
   ]
  },
  {
   "cell_type": "code",
   "execution_count": 7,
   "metadata": {
    "collapsed": false
   },
   "outputs": [],
   "source": [
    "#Creating variables for Fire Parameters\n",
    "\n",
    "#file for 2013-14 - this file has 1/0 if the fire happened in 2013-2014/ or not\n",
    "fireParamFile_14 = '/home/skhatter/exp1/fire2014/fire2014_.tif'\n",
    "\n",
    "\n",
    "#opening the files using gdal\n",
    "fireDataset_14 = gdal.Open(fireParamFile_14, GA_ReadOnly)\n",
    "\n",
    "\n",
    "#getting the raster band 1 from all the 4 datasets\n",
    "fireBand1_14 = fireDataset_14.GetRasterBand(1)\n",
    "\n",
    "\n",
    "#converting the rasterized values in arrays\n",
    "data5_14 =  np.array(fireBand1_14.ReadAsArray(0,0,fireBand1_14.XSize, fireBand1_14.YSize))\n",
    "\n",
    "\n",
    "#reshaping the arrays\n",
    "data5_14 = np.reshape(data5_14, data5_14.size, order='F')"
   ]
  },
  {
   "cell_type": "code",
   "execution_count": 9,
   "metadata": {
    "collapsed": false
   },
   "outputs": [
    {
     "name": "stdout",
     "output_type": "stream",
     "text": [
      "(5, 4665108)\n"
     ]
    }
   ],
   "source": [
    "#creating feature vector using complete data\n",
    "#5 FEATURES-  Fire Frequency, Elevation, Slope, Aspect, Fuel Model Number\n",
    "data_t = []\n",
    "data_t.append(data_fireFreq)\n",
    "data_t.append(data1_12)\n",
    "data_t.append(data2_12)\n",
    "data_t.append(data3_12)\n",
    "data_t.append(data4_12)\n",
    "data = np.array(data_t)\n",
    "print(data.shape)\n",
    "data = data.T\n",
    "\n",
    "#feature vector is X\n",
    "X = data\n",
    "\n",
    "#target vector is y\n",
    "y = data5_14"
   ]
  },
  {
   "cell_type": "code",
   "execution_count": 10,
   "metadata": {
    "collapsed": false
   },
   "outputs": [],
   "source": [
    "#creating test set and training set  using train_test_split\n",
    "#Split arrays or matrices into random train and test subsets in ratios 80:20\n",
    "\n",
    "X_train, X_test, y_train, y_test = train_test_split(X, y, test_size=0.2, stratify = y)\n"
   ]
  },
  {
   "cell_type": "code",
   "execution_count": 11,
   "metadata": {
    "collapsed": false
   },
   "outputs": [],
   "source": [
    "#USING Logistic Regression\n",
    "\n",
    "logreg = LogisticRegression()"
   ]
  },
  {
   "cell_type": "code",
   "execution_count": 13,
   "metadata": {
    "collapsed": false
   },
   "outputs": [
    {
     "name": "stdout",
     "output_type": "stream",
     "text": [
      "Random Under Sampled dataset Shape Counter({0.0: 54584, 1.0: 54584})\n"
     ]
    }
   ],
   "source": [
    "#using Random Under Sampling\n",
    "rus = RandomUnderSampler(random_state=42)\n",
    "X_rus, y_rus = rus.fit_sample(X_train, y_train)\n",
    "\n",
    "print('Random Under Sampled dataset Shape {}'.format(Counter(y_rus)))"
   ]
  },
  {
   "cell_type": "code",
   "execution_count": 14,
   "metadata": {
    "collapsed": false
   },
   "outputs": [],
   "source": [
    "logreg = logreg.fit(X_rus, y_rus)\n",
    "\n",
    "y_pred = logreg.predict(X_test)"
   ]
  },
  {
   "cell_type": "code",
   "execution_count": 15,
   "metadata": {
    "collapsed": false
   },
   "outputs": [
    {
     "name": "stdout",
     "output_type": "stream",
     "text": [
      "Test Set Shape Counter({0.0: 919376, 1.0: 13646})\n"
     ]
    }
   ],
   "source": [
    "print('Test Set Shape {}'.format(Counter(y_test)))"
   ]
  },
  {
   "cell_type": "code",
   "execution_count": 25,
   "metadata": {
    "collapsed": false
   },
   "outputs": [
    {
     "name": "stdout",
     "output_type": "stream",
     "text": [
      "Confusion matrix, without normalization\n",
      "[[560244 359132]\n",
      " [  4658   8988]]\n",
      "Normalized confusion matrix\n",
      "[[ 0.61  0.39]\n",
      " [ 0.34  0.66]]\n"
     ]
    },
    {
     "data": {
      "image/png": "[encoded data removed]",
      "text/plain": [
       "<matplotlib.figure.Figure at 0x7fce241b2358>"
      ]
     },
     "metadata": {},
     "output_type": "display_data"
    },
    {
     "data": {
      "image/png": "[encoded data removed]",
      "text/plain": [
       "<matplotlib.figure.Figure at 0x7fcdda323860>"
      ]
     },
     "metadata": {},
     "output_type": "display_data"
    }
   ],
   "source": [
    "#Confusion matrix \n",
    "#C is such that C_{i, j} is equal to the number of observations known to be in group i \n",
    "#but predicted to be in group j.\n",
    "#Thus in binary classification, the count of true negatives is C_{0,0}, \n",
    "#false negatives is C_{1,0}, true positives is C_{1,1} and false positives is C_{0,1}.\n",
    "\n",
    "class_names = ['Non- burnt', 'burnt']\n",
    "def plot_confusion_matrix(cm, classes,\n",
    "                          normalize=False,\n",
    "                          title='Confusion matrix',\n",
    "                          cmap=plt.cm.Blues):\n",
    "    \"\"\"\n",
    "    This function prints and plots the confusion matrix.\n",
    "    Normalization can be applied by setting `normalize=True`.\n",
    "    \"\"\"\n",
    "    plt.imshow(cm, interpolation='nearest', cmap=cmap)\n",
    "    plt.title(title)\n",
    "    plt.colorbar()\n",
    "    tick_marks = np.arange(len(classes))\n",
    "    plt.xticks(tick_marks, classes, rotation=45)\n",
    "    plt.yticks(tick_marks, classes)\n",
    "\n",
    "    if normalize:\n",
    "        cm = cm.astype('float') / cm.sum(axis=1)[:, np.newaxis]\n",
    "        print(\"Normalized confusion matrix\")\n",
    "    else:\n",
    "        print('Confusion matrix, without normalization')\n",
    "\n",
    "    print(cm)\n",
    "\n",
    "    thresh = cm.max() / 2.\n",
    "    for i, j in itertools.product(range(cm.shape[0]), range(cm.shape[1])):\n",
    "        plt.text(j, i, cm[i, j],\n",
    "                 horizontalalignment=\"center\",\n",
    "                 color=\"white\" if cm[i, j] > thresh else \"black\")\n",
    "\n",
    "    plt.tight_layout()\n",
    "    plt.ylabel('True label')\n",
    "    plt.xlabel('Predicted label')\n",
    "\n",
    "# Compute confusion matrix\n",
    "cnf_matrix = confusion_matrix(y_test, y_pred)\n",
    "np.set_printoptions(precision=2)\n",
    "\n",
    "# Plot non-normalized confusion matrix\n",
    "plt.figure()\n",
    "plot_confusion_matrix(cnf_matrix, classes=class_names,title='Confusion matrix, without normalization')\n",
    "\n",
    "# Plot normalized confusion matrix\n",
    "plt.figure()\n",
    "plot_confusion_matrix(cnf_matrix, classes=class_names, normalize=True, title='Normalized confusion matrix')\n",
    "plt.show()"
   ]
  },
  {
   "cell_type": "code",
   "execution_count": 2,
   "metadata": {
    "collapsed": false
   },
   "outputs": [
    {
     "ename": "NameError",
     "evalue": "name 'logreg' is not defined",
     "output_type": "error",
     "traceback": [
      "\u001b[0;31m---------------------------------------------------------------------------\u001b[0m",
      "\u001b[0;31mNameError\u001b[0m                                 Traceback (most recent call last)",
      "\u001b[0;32m<ipython-input-2-0c834045e94e>\u001b[0m in \u001b[0;36m<module>\u001b[0;34m()\u001b[0m\n\u001b[1;32m      2\u001b[0m \u001b[0;34m\u001b[0m\u001b[0m\n\u001b[1;32m      3\u001b[0m \u001b[0;31m#finding prediction for class 1 that is class Burnt\u001b[0m\u001b[0;34m\u001b[0m\u001b[0;34m\u001b[0m\u001b[0m\n\u001b[0;32m----> 4\u001b[0;31m \u001b[0my_pred_prob\u001b[0m \u001b[0;34m=\u001b[0m \u001b[0mlogreg\u001b[0m\u001b[0;34m.\u001b[0m\u001b[0mpredict_proba\u001b[0m\u001b[0;34m(\u001b[0m\u001b[0mX_test\u001b[0m\u001b[0;34m)\u001b[0m\u001b[0;34m[\u001b[0m\u001b[0;34m:\u001b[0m\u001b[0;34m,\u001b[0m\u001b[0;36m1\u001b[0m\u001b[0;34m]\u001b[0m\u001b[0;34m\u001b[0m\u001b[0m\n\u001b[0m\u001b[1;32m      5\u001b[0m \u001b[0mfalse_positive_rate_1\u001b[0m\u001b[0;34m,\u001b[0m \u001b[0mtrue_positive_rate_1\u001b[0m\u001b[0;34m,\u001b[0m \u001b[0mthresholds_1\u001b[0m \u001b[0;34m=\u001b[0m \u001b[0mroc_curve\u001b[0m\u001b[0;34m(\u001b[0m\u001b[0my_test\u001b[0m\u001b[0;34m,\u001b[0m \u001b[0my_pred_prob\u001b[0m\u001b[0;34m)\u001b[0m\u001b[0;34m\u001b[0m\u001b[0m\n\u001b[1;32m      6\u001b[0m \u001b[0mroc_auc_1\u001b[0m \u001b[0;34m=\u001b[0m \u001b[0mauc\u001b[0m\u001b[0;34m(\u001b[0m\u001b[0mfalse_positive_rate_1\u001b[0m\u001b[0;34m,\u001b[0m \u001b[0mtrue_positive_rate_1\u001b[0m\u001b[0;34m)\u001b[0m\u001b[0;34m\u001b[0m\u001b[0m\n",
      "\u001b[0;31mNameError\u001b[0m: name 'logreg' is not defined"
     ]
    }
   ],
   "source": [
    "from sklearn.metrics import roc_curve, auc\n",
    "\n",
    "#finding prediction for class 1 that is class Burnt\n",
    "y_pred_prob = logreg.predict_proba(X_test)[:,1]\n",
    "false_positive_rate_1, true_positive_rate_1, thresholds_1 = roc_curve(y_test, y_pred_prob)\n",
    "roc_auc_1 = auc(false_positive_rate_1, true_positive_rate_1)\n",
    "\n",
    "\n",
    "\n",
    "plt.title('Receiver Operating Characteristic Curve')\n",
    "plt.plot(false_positive_rate_1, true_positive_rate_1, 'b',label='AUC = %0.2f'% roc_auc_1)\n",
    "plt.legend(loc='lower right')\n",
    "plt.plot([0,1],[0,1],'r--')\n",
    "plt.xlim([-0.1,1.2])\n",
    "plt.ylim([-0.1,1.2])\n",
    "plt.ylabel('True Positive Rate')\n",
    "plt.xlabel('False Positive Rate')\n",
    "plt.show()"
   ]
  },
  {
   "cell_type": "code",
   "execution_count": null,
   "metadata": {
    "collapsed": false
   },
   "outputs": [],
   "source": []
  },
  {
   "cell_type": "code",
   "execution_count": null,
   "metadata": {
    "collapsed": false,
    "scrolled": true
   },
   "outputs": [],
   "source": []
  },
  {
   "cell_type": "code",
   "execution_count": 39,
   "metadata": {
    "collapsed": true
   },
   "outputs": [],
   "source": []
  },
  {
   "cell_type": "code",
   "execution_count": null,
   "metadata": {
    "collapsed": false
   },
   "outputs": [],
   "source": []
  },
  {
   "cell_type": "code",
   "execution_count": null,
   "metadata": {
    "collapsed": false
   },
   "outputs": [],
   "source": []
  },
  {
   "cell_type": "code",
   "execution_count": null,
   "metadata": {
    "collapsed": false
   },
   "outputs": [],
   "source": []
  },
  {
   "cell_type": "code",
   "execution_count": null,
   "metadata": {
    "collapsed": false
   },
   "outputs": [],
   "source": []
  },
  {
   "cell_type": "code",
   "execution_count": null,
   "metadata": {
    "collapsed": false
   },
   "outputs": [],
   "source": []
  },
  {
   "cell_type": "code",
   "execution_count": null,
   "metadata": {
    "collapsed": false
   },
   "outputs": [],
   "source": []
  },
  {
   "cell_type": "code",
   "execution_count": null,
   "metadata": {
    "collapsed": true
   },
   "outputs": [],
   "source": []
  },
  {
   "cell_type": "code",
   "execution_count": null,
   "metadata": {
    "collapsed": false
   },
   "outputs": [],
   "source": []
  },
  {
   "cell_type": "code",
   "execution_count": null,
   "metadata": {
    "collapsed": false
   },
   "outputs": [],
   "source": []
  },
  {
   "cell_type": "code",
   "execution_count": null,
   "metadata": {
    "collapsed": false
   },
   "outputs": [],
   "source": [
    "\n"
   ]
  },
  {
   "cell_type": "code",
   "execution_count": null,
   "metadata": {
    "collapsed": true
   },
   "outputs": [],
   "source": []
  },
  {
   "cell_type": "code",
   "execution_count": null,
   "metadata": {
    "collapsed": true
   },
   "outputs": [],
   "source": []
  }
 ],
 "metadata": {
  "kernelspec": {
   "display_name": "Python 3",
   "language": "python",
   "name": "python3"
  },
  "language_info": {
   "codemirror_mode": {
    "name": "ipython",
    "version": 3
   },
   "file_extension": ".py",
   "mimetype": "text/x-python",
   "name": "python",
   "nbconvert_exporter": "python",
   "pygments_lexer": "ipython3",
   "version": "3.4.3"
  }
 },
 "nbformat": 4,
 "nbformat_minor": 2
}
